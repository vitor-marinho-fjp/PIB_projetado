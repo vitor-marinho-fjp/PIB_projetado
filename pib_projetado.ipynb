{
  "nbformat": 4,
  "nbformat_minor": 0,
  "metadata": {
    "colab": {
      "provenance": [],
      "authorship_tag": "ABX9TyOJ7z42aNdVUKsC+dYqrXz3",
      "include_colab_link": true
    },
    "kernelspec": {
      "name": "python3",
      "display_name": "Python 3"
    },
    "language_info": {
      "name": "python"
    }
  },
  "cells": [
    {
      "cell_type": "markdown",
      "metadata": {
        "id": "view-in-github",
        "colab_type": "text"
      },
      "source": [
        "<a href=\"https://colab.research.google.com/github/vitor-marinho-fjp/ACP/blob/main/pib_projetado.ipynb\" target=\"_parent\"><img src=\"https://colab.research.google.com/assets/colab-badge.svg\" alt=\"Open In Colab\"/></a>"
      ]
    },
    {
      "cell_type": "code",
      "execution_count": null,
      "metadata": {
        "id": "3wpt8TT7A08V"
      },
      "outputs": [],
      "source": [
        "# Importando as bibliotecas necessárias\n",
        "import matplotlib.pyplot as plt\n",
        "import matplotlib.gridspec as gridspec\n",
        "import numpy as np\n",
        "import pandas as pd\n",
        "\n",
        "# Preparando os Dados\n",
        "# --------------------\n",
        "# Aqui, criamos um conjunto de dados de exemplo que representa volumes de exportação e importação\n",
        "# para diferentes estados em anos selecionados.\n",
        "new_data = {\n",
        "    \"Ano\": [2025, 2025, 2030, 2030, 2035, 2035, 2040, 2040],\n",
        "    \"variável\": [\"4 ExpVol\", \"5 ImpVolUsed\", \"4 ExpVol\", \"5 ImpVolUsed\", \"4 ExpVol\", \"5 ImpVolUsed\", \"4 ExpVol\", \"5 ImpVolUsed\"],\n",
        "    \"AC\": [0, 0.16, -0.03, 0.37, -0.09, 0.55, -0.15, 0.67],\n",
        "    # ... Adicione dados para os outros estados ...\n",
        "}\n",
        "\n",
        "# Convertendo para um DataFrame do Pandas\n",
        "df_new = pd.DataFrame(new_data)\n",
        "\n",
        "# Dividindo o DataFrame\n",
        "# ---------------------\n",
        "# Aqui dividimos o DataFrame em dois: um para \"4 ExpVol\" e outro para \"5 ImpVolUsed\".\n",
        "# Isso facilita a criação de gráficos para cada variável.\n",
        "df_expvol_new = df_new[df_new['variável'] == '4 ExpVol'].drop('variável', axis=1).set_index('Ano')\n",
        "df_impvolused_new = df_new[df_new['variável'] == '5 ImpVolUsed'].drop('variável', axis=1).set_index('Ano')\n",
        "\n",
        "# Configurando Cores e Barras\n",
        "# ---------------------------\n",
        "# Definimos cores para cada estado e configuramos a largura das barras para os gráficos.\n",
        "colors = ['darkred', 'darkblue', 'darkgreen', 'darkgray', 'darkorange', 'darkviolet', 'darkcyan'] * (len(df_expvol_new.columns) // 7 + 1)\n",
        "bar_width = 0.35\n",
        "index = np.arange(len(df_expvol_new.index))\n",
        "\n",
        "# Ajustando o Layout do Gráfico\n",
        "# ------------------------------\n",
        "# Calculamos o layout da grade para acomodar todos os estados e criamos um gráfico para cada estado.\n",
        "num_rows = (len(df_expvol_new.columns) + 2) // 3\n",
        "gs = gridspec.GridSpec(num_rows, 3)\n",
        "plt.figure(figsize=(14, 10))\n",
        "\n",
        "# Criando Gráficos para Cada Estado\n",
        "# ---------------------------------\n",
        "for i, state in enumerate(df_expvol_new.columns):\n",
        "    ax = plt.subplot(gs[i // 3, i % 3])\n",
        "\n",
        "    # Barras de Exportação\n",
        "    exp_bars = ax.bar(index - bar_width/2, df_expvol_new[state], bar_width, label=\"Exportações\", color=colors[i])\n",
        "    # Barras de Importação\n",
        "    imp_bars = ax.bar(index + bar_width/2, -df_impvolused_new[state], bar_width, label=\"Importações\", color=colors[i], alpha=0.5)\n",
        "\n",
        "    # Adicionando valores nas barras\n",
        "    for bar in exp_bars + imp_bars:\n",
        "        yval = bar.get_height()\n",
        "        ax.text(bar.get_x() + bar.get_width()/2, yval, round(yval, 2), va='bottom' if yval > 0 else 'top', ha='center')\n",
        "\n",
        "    # Configurando o eixo X e Y, título e grade\n",
        "    ax.set_xlabel('Ano')\n",
        "    ax.set_ylabel('Volume')\n",
        "    ax.set_title(f'{state}')\n",
        "    ax.set_xticks(index)\n",
        "    ax.set_xticklabels(df_expvol_new.index)\n",
        "    ax.legend()\n",
        "    ax.grid(True)\n",
        "\n",
        "# Ajustando o layout e salvando o gráfico\n",
        "# ---------------------------------------\n",
        "plt.tight_layout()\n",
        "output_file_path_heatmap = 'balanca_comercial.png'\n",
        "plt.savefig(output_file_path_heatmap, dpi=300, transparent=True)\n",
        "\n",
        "# Exibindo o gráfico\n",
        "plt.show()\n"
      ]
    }
  ]
}